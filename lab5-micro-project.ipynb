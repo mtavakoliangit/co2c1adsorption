{
  "cells": [
    {
      "cell_type": "markdown",
      "metadata": {
        "id": "dSNkA2piT7Bk"
      },
      "source": [
        "# 1. Introduction\n",
        "\n",
        "Describe the approach chosen, reason for choosing it and how you implemented it.\n",
        "\n",
        "I chose the \"Share and grab data\" option, because I believed one of the key reasons of low accuracy of my model in lab3 was low number of images used. I shared my images with the others and downloaded other images in the shared drive.\n",
        "I saved all images in five folders of one, two, three, four, five, and then separated them in 80-20 percent of each folder in a train-valid paths, respectively."
      ]
    },
    {
      "cell_type": "markdown",
      "metadata": {
        "id": "7c7UedchT7Br"
      },
      "source": [
        "# 2. Model training and Results\n",
        "Any code to train a model and produce results or a reference to the notebook/code file."
      ]
    },
    {
      "cell_type": "code",
      "execution_count": null,
      "metadata": {
        "id": "phmms3CKT7Bs"
      },
      "outputs": [],
      "source": [
        ""
      ]
    },
    {
      "cell_type": "markdown",
      "metadata": {
        "id": "VVpYgjr-T7Bt"
      },
      "source": [
        "# 3. Summary and Conclusion\n",
        "Summarize your new results and state your lab3 and lab4 results.\n",
        "\n",
        "\n",
        "Conclusion: How large is the improvement in the performance of the classifier due to the approach chosen? Include your interpretation why it worked (or did not work)."
      ]
    },
    {
      "cell_type": "markdown",
      "metadata": {
        "id": "4uQB0pZeT7Bu"
      },
      "source": [
        "# 4. Reflection\n",
        "Include a sentence or two about\n",
        "- what you liked or disliked,\n",
        "- found interesting, confusing, challangeing, motivating\n",
        "\n",
        "while working on this assignment.\n",
        "\n",
        "*YOUR ANSWER HERE*\n",
        "\n"
      ]
    },
    {
      "cell_type": "code",
      "execution_count": null,
      "metadata": {
        "id": "WIIas_T6T7Bv"
      },
      "outputs": [],
      "source": [
        ""
      ]
    }
  ],
  "metadata": {
    "kernelspec": {
      "display_name": "Python 3 (ipykernel)",
      "language": "python",
      "name": "python3"
    },
    "language_info": {
      "codemirror_mode": {
        "name": "ipython",
        "version": 3
      },
      "file_extension": ".py",
      "mimetype": "text/x-python",
      "name": "python",
      "nbconvert_exporter": "python",
      "pygments_lexer": "ipython3",
      "version": "3.9.7"
    },
    "colab": {
      "name": "lab5-micro-project.ipynb",
      "provenance": []
    }
  },
  "nbformat": 4,
  "nbformat_minor": 0
}